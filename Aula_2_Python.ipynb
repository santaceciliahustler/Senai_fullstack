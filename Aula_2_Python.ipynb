{
  "nbformat": 4,
  "nbformat_minor": 0,
  "metadata": {
    "colab": {
      "name": "Aula 2 - Python",
      "provenance": [],
      "collapsed_sections": [],
      "authorship_tag": "ABX9TyNiBHIBn8+oNciAT0u58X+7",
      "include_colab_link": true
    },
    "kernelspec": {
      "name": "python3",
      "display_name": "Python 3"
    },
    "language_info": {
      "name": "python"
    }
  },
  "cells": [
    {
      "cell_type": "markdown",
      "metadata": {
        "id": "view-in-github",
        "colab_type": "text"
      },
      "source": [
        "<a href=\"https://colab.research.google.com/github/santaceciliahustler/Senai_fullstack/blob/main/Aula_2_Python.ipynb\" target=\"_parent\"><img src=\"https://colab.research.google.com/assets/colab-badge.svg\" alt=\"Open In Colab\"/></a>"
      ]
    },
    {
      "cell_type": "code",
      "execution_count": null,
      "metadata": {
        "id": "g3M8-MWqR7F0"
      },
      "outputs": [],
      "source": [
        "set1 = {'Sorocaba','São Paulo','São Roque','Piedade','Campinas'}\n",
        "set2 = {'São Paulo','Guarulhos', 'Guarulhos', 'Osasco'}"
      ]
    },
    {
      "cell_type": "code",
      "source": [
        "set1"
      ],
      "metadata": {
        "colab": {
          "base_uri": "https://localhost:8080/"
        },
        "id": "a2RAKPANStzQ",
        "outputId": "8df94d6d-48d7-42ea-dd08-531460982263"
      },
      "execution_count": null,
      "outputs": [
        {
          "output_type": "execute_result",
          "data": {
            "text/plain": [
              "{'Campinas', 'Piedade', 'Sorocaba', 'São Paulo', 'São Roque'}"
            ]
          },
          "metadata": {},
          "execution_count": 3
        }
      ]
    },
    {
      "cell_type": "code",
      "source": [
        "set2"
      ],
      "metadata": {
        "colab": {
          "base_uri": "https://localhost:8080/"
        },
        "id": "QA7rlpNmV9ia",
        "outputId": "3dbc9c66-d9a7-48f9-c63a-c9e9ceb44ce6"
      },
      "execution_count": null,
      "outputs": [
        {
          "output_type": "execute_result",
          "data": {
            "text/plain": [
              "{'Guarulhos', 'Osasco', 'São Paulo'}"
            ]
          },
          "metadata": {},
          "execution_count": 4
        }
      ]
    },
    {
      "cell_type": "markdown",
      "source": [
        "set nao aceita duplicidade"
      ],
      "metadata": {
        "id": "EDpF2DJbWAcx"
      }
    },
    {
      "cell_type": "code",
      "source": [
        "set1.union(set2)"
      ],
      "metadata": {
        "colab": {
          "base_uri": "https://localhost:8080/"
        },
        "id": "FfuPfS1mWB_S",
        "outputId": "55cda54d-7b9c-4d3b-c9e3-0048aa7a33da"
      },
      "execution_count": null,
      "outputs": [
        {
          "output_type": "execute_result",
          "data": {
            "text/plain": [
              "{'Campinas',\n",
              " 'Guarulhos',\n",
              " 'Osasco',\n",
              " 'Piedade',\n",
              " 'Sorocaba',\n",
              " 'São Paulo',\n",
              " 'São Roque'}"
            ]
          },
          "metadata": {},
          "execution_count": 5
        }
      ]
    },
    {
      "cell_type": "code",
      "source": [
        "set2.difference(set1)"
      ],
      "metadata": {
        "colab": {
          "base_uri": "https://localhost:8080/"
        },
        "id": "bfCvJJ6kY6Ku",
        "outputId": "74dcb970-300c-4282-c7fa-7c4078a31df6"
      },
      "execution_count": null,
      "outputs": [
        {
          "output_type": "execute_result",
          "data": {
            "text/plain": [
              "{'Guarulhos', 'Osasco'}"
            ]
          },
          "metadata": {},
          "execution_count": 6
        }
      ]
    },
    {
      "cell_type": "code",
      "source": [
        "set2.intersection(set1)\n"
      ],
      "metadata": {
        "colab": {
          "base_uri": "https://localhost:8080/"
        },
        "id": "bqAMHzeTZK-u",
        "outputId": "cc449728-904f-440b-d1bd-7cb7bb8c204e"
      },
      "execution_count": null,
      "outputs": [
        {
          "output_type": "execute_result",
          "data": {
            "text/plain": [
              "{'São Paulo'}"
            ]
          },
          "metadata": {},
          "execution_count": 7
        }
      ]
    },
    {
      "cell_type": "code",
      "source": [
        "set2.add('Suzano')"
      ],
      "metadata": {
        "id": "Pw3Tu1qqZo2B"
      },
      "execution_count": null,
      "outputs": []
    },
    {
      "cell_type": "code",
      "source": [
        "set2"
      ],
      "metadata": {
        "colab": {
          "base_uri": "https://localhost:8080/"
        },
        "id": "zZ5XYxk7ZvAG",
        "outputId": "f3cfb718-8681-4853-9972-d8b5a9b98ef7"
      },
      "execution_count": null,
      "outputs": [
        {
          "output_type": "execute_result",
          "data": {
            "text/plain": [
              "{'Guarulhos', 'Osasco', 'Suzano', 'São Paulo'}"
            ]
          },
          "metadata": {},
          "execution_count": 10
        }
      ]
    },
    {
      "cell_type": "code",
      "source": [
        "set2.remove('Osasco')"
      ],
      "metadata": {
        "id": "tIQ0_EfRZwOd"
      },
      "execution_count": null,
      "outputs": []
    },
    {
      "cell_type": "code",
      "source": [
        "set2"
      ],
      "metadata": {
        "colab": {
          "base_uri": "https://localhost:8080/"
        },
        "id": "ijwlwdXdZ0vY",
        "outputId": "4dc37dee-32b7-468b-97cb-0c620ffe96d6"
      },
      "execution_count": null,
      "outputs": [
        {
          "output_type": "execute_result",
          "data": {
            "text/plain": [
              "{'Guarulhos', 'Suzano', 'São Paulo'}"
            ]
          },
          "metadata": {},
          "execution_count": 13
        }
      ]
    },
    {
      "cell_type": "code",
      "source": [
        "dict1={'Nome':'Jhean',\n",
        "       \"Idade\": 34,\n",
        "       'Cidade': 'São Paulo',\n",
        "       'Profissão': 'Economista'}\n"
      ],
      "metadata": {
        "id": "t-O4--xNZ4Ng"
      },
      "execution_count": null,
      "outputs": []
    },
    {
      "cell_type": "code",
      "source": [
        "dict1"
      ],
      "metadata": {
        "colab": {
          "base_uri": "https://localhost:8080/"
        },
        "id": "ybU3BgJZaPB-",
        "outputId": "39ece58d-f272-479a-b13d-e98003495464"
      },
      "execution_count": null,
      "outputs": [
        {
          "output_type": "execute_result",
          "data": {
            "text/plain": [
              "{'Cidade': 'São Paulo',\n",
              " 'Idade': 34,\n",
              " 'Nome': 'Jhean',\n",
              " 'Profissão': 'Economista'}"
            ]
          },
          "metadata": {},
          "execution_count": 22
        }
      ]
    },
    {
      "cell_type": "code",
      "source": [
        "dict1['Nome']"
      ],
      "metadata": {
        "colab": {
          "base_uri": "https://localhost:8080/",
          "height": 36
        },
        "id": "B6-eJfyAaTVx",
        "outputId": "8d29ba09-2169-43c1-cf59-d55414fd89db"
      },
      "execution_count": null,
      "outputs": [
        {
          "output_type": "execute_result",
          "data": {
            "text/plain": [
              "'Jhean'"
            ],
            "application/vnd.google.colaboratory.intrinsic+json": {
              "type": "string"
            }
          },
          "metadata": {},
          "execution_count": 23
        }
      ]
    },
    {
      "cell_type": "code",
      "source": [
        "dict2 = {'Cidade': ['São Paulo','Sorocaba'],\n",
        " 'Idade': [34,28],\n",
        " 'Nome': ['Jhean','Raphael'],\n",
        " 'Profissão': ['Economista','Geografo']}"
      ],
      "metadata": {
        "id": "cZvjJpCQafrY"
      },
      "execution_count": null,
      "outputs": []
    },
    {
      "cell_type": "code",
      "source": [
        "dict2"
      ],
      "metadata": {
        "colab": {
          "base_uri": "https://localhost:8080/"
        },
        "id": "ihthEv3iatKC",
        "outputId": "27a82c5f-884b-4b7f-cee5-edd5bf8bd99b"
      },
      "execution_count": null,
      "outputs": [
        {
          "output_type": "execute_result",
          "data": {
            "text/plain": [
              "{'Cidade': ['São Paulo', 'Sorocaba'],\n",
              " 'Idade': [34, 28],\n",
              " 'Nome': ['Jhean', 'Raphael'],\n",
              " 'Profissão': ['Economista', 'Geografo']}"
            ]
          },
          "metadata": {},
          "execution_count": 28
        }
      ]
    },
    {
      "cell_type": "code",
      "source": [
        "dict2['Nome']"
      ],
      "metadata": {
        "colab": {
          "base_uri": "https://localhost:8080/"
        },
        "id": "gJraYCVRbBRo",
        "outputId": "88fab09d-c865-4363-81d0-35df1f3d3c0c"
      },
      "execution_count": null,
      "outputs": [
        {
          "output_type": "execute_result",
          "data": {
            "text/plain": [
              "['Jhean', 'Raphael']"
            ]
          },
          "metadata": {},
          "execution_count": 30
        }
      ]
    },
    {
      "cell_type": "code",
      "source": [
        "type(dict2)"
      ],
      "metadata": {
        "colab": {
          "base_uri": "https://localhost:8080/"
        },
        "id": "RCN8uAvYbPPE",
        "outputId": "561ba46c-57a5-4cd8-f0a7-da131b802843"
      },
      "execution_count": null,
      "outputs": [
        {
          "output_type": "execute_result",
          "data": {
            "text/plain": [
              "dict"
            ]
          },
          "metadata": {},
          "execution_count": 31
        }
      ]
    },
    {
      "cell_type": "code",
      "source": [
        "import numpy as np\n",
        "import pandas as pd"
      ],
      "metadata": {
        "id": "MB3XJ45sl-DI"
      },
      "execution_count": null,
      "outputs": []
    },
    {
      "cell_type": "code",
      "source": [
        "arr1=np.array([1,2,3,4])\n",
        "arr1\n",
        "arr1[0]"
      ],
      "metadata": {
        "colab": {
          "base_uri": "https://localhost:8080/"
        },
        "id": "pQgthM0cmX2w",
        "outputId": "f99f8a95-e85a-46e1-c844-d47b5ca925fa"
      },
      "execution_count": null,
      "outputs": [
        {
          "output_type": "execute_result",
          "data": {
            "text/plain": [
              "1"
            ]
          },
          "metadata": {},
          "execution_count": 45
        }
      ]
    },
    {
      "cell_type": "code",
      "source": [
        "arr2=np.array([[1,2,3,4],\n",
        "               [5,6,7,8],\n",
        "               [9,10,11,12],\n",
        "               [13,14,15,16]])\n",
        "arr2"
      ],
      "metadata": {
        "colab": {
          "base_uri": "https://localhost:8080/"
        },
        "id": "SB7GQ86Mmdcr",
        "outputId": "82146662-8d23-4e6f-d946-698b2e4cfac0"
      },
      "execution_count": null,
      "outputs": [
        {
          "output_type": "execute_result",
          "data": {
            "text/plain": [
              "array([[ 1,  2,  3,  4],\n",
              "       [ 5,  6,  7,  8],\n",
              "       [ 9, 10, 11, 12],\n",
              "       [13, 14, 15, 16]])"
            ]
          },
          "metadata": {},
          "execution_count": 40
        }
      ]
    },
    {
      "cell_type": "code",
      "source": [
        "series1 =pd.Series(arr1, index =[2000,2001,2002,2003])\n",
        "series1[2003]\n"
      ],
      "metadata": {
        "colab": {
          "base_uri": "https://localhost:8080/"
        },
        "id": "QHr-0ySFm_By",
        "outputId": "e5a905be-a55b-4ca8-ea28-3940d578c40e"
      },
      "execution_count": null,
      "outputs": [
        {
          "output_type": "execute_result",
          "data": {
            "text/plain": [
              "4"
            ]
          },
          "metadata": {},
          "execution_count": 47
        }
      ]
    },
    {
      "cell_type": "code",
      "source": [
        "data1= pd.DataFrame(dict2)\n",
        "data1"
      ],
      "metadata": {
        "colab": {
          "base_uri": "https://localhost:8080/",
          "height": 112
        },
        "id": "Zes50S2snuKS",
        "outputId": "f6a69849-2dc6-471f-bc7c-ea2594dc5ef2"
      },
      "execution_count": null,
      "outputs": [
        {
          "output_type": "execute_result",
          "data": {
            "text/plain": [
              "      Cidade  Idade     Nome   Profissão\n",
              "0  São Paulo     34    Jhean  Economista\n",
              "1   Sorocaba     28  Raphael    Geografo"
            ],
            "text/html": [
              "\n",
              "  <div id=\"df-4b3482a4-e463-4db6-b387-d0397f2db783\">\n",
              "    <div class=\"colab-df-container\">\n",
              "      <div>\n",
              "<style scoped>\n",
              "    .dataframe tbody tr th:only-of-type {\n",
              "        vertical-align: middle;\n",
              "    }\n",
              "\n",
              "    .dataframe tbody tr th {\n",
              "        vertical-align: top;\n",
              "    }\n",
              "\n",
              "    .dataframe thead th {\n",
              "        text-align: right;\n",
              "    }\n",
              "</style>\n",
              "<table border=\"1\" class=\"dataframe\">\n",
              "  <thead>\n",
              "    <tr style=\"text-align: right;\">\n",
              "      <th></th>\n",
              "      <th>Cidade</th>\n",
              "      <th>Idade</th>\n",
              "      <th>Nome</th>\n",
              "      <th>Profissão</th>\n",
              "    </tr>\n",
              "  </thead>\n",
              "  <tbody>\n",
              "    <tr>\n",
              "      <th>0</th>\n",
              "      <td>São Paulo</td>\n",
              "      <td>34</td>\n",
              "      <td>Jhean</td>\n",
              "      <td>Economista</td>\n",
              "    </tr>\n",
              "    <tr>\n",
              "      <th>1</th>\n",
              "      <td>Sorocaba</td>\n",
              "      <td>28</td>\n",
              "      <td>Raphael</td>\n",
              "      <td>Geografo</td>\n",
              "    </tr>\n",
              "  </tbody>\n",
              "</table>\n",
              "</div>\n",
              "      <button class=\"colab-df-convert\" onclick=\"convertToInteractive('df-4b3482a4-e463-4db6-b387-d0397f2db783')\"\n",
              "              title=\"Convert this dataframe to an interactive table.\"\n",
              "              style=\"display:none;\">\n",
              "        \n",
              "  <svg xmlns=\"http://www.w3.org/2000/svg\" height=\"24px\"viewBox=\"0 0 24 24\"\n",
              "       width=\"24px\">\n",
              "    <path d=\"M0 0h24v24H0V0z\" fill=\"none\"/>\n",
              "    <path d=\"M18.56 5.44l.94 2.06.94-2.06 2.06-.94-2.06-.94-.94-2.06-.94 2.06-2.06.94zm-11 1L8.5 8.5l.94-2.06 2.06-.94-2.06-.94L8.5 2.5l-.94 2.06-2.06.94zm10 10l.94 2.06.94-2.06 2.06-.94-2.06-.94-.94-2.06-.94 2.06-2.06.94z\"/><path d=\"M17.41 7.96l-1.37-1.37c-.4-.4-.92-.59-1.43-.59-.52 0-1.04.2-1.43.59L10.3 9.45l-7.72 7.72c-.78.78-.78 2.05 0 2.83L4 21.41c.39.39.9.59 1.41.59.51 0 1.02-.2 1.41-.59l7.78-7.78 2.81-2.81c.8-.78.8-2.07 0-2.86zM5.41 20L4 18.59l7.72-7.72 1.47 1.35L5.41 20z\"/>\n",
              "  </svg>\n",
              "      </button>\n",
              "      \n",
              "  <style>\n",
              "    .colab-df-container {\n",
              "      display:flex;\n",
              "      flex-wrap:wrap;\n",
              "      gap: 12px;\n",
              "    }\n",
              "\n",
              "    .colab-df-convert {\n",
              "      background-color: #E8F0FE;\n",
              "      border: none;\n",
              "      border-radius: 50%;\n",
              "      cursor: pointer;\n",
              "      display: none;\n",
              "      fill: #1967D2;\n",
              "      height: 32px;\n",
              "      padding: 0 0 0 0;\n",
              "      width: 32px;\n",
              "    }\n",
              "\n",
              "    .colab-df-convert:hover {\n",
              "      background-color: #E2EBFA;\n",
              "      box-shadow: 0px 1px 2px rgba(60, 64, 67, 0.3), 0px 1px 3px 1px rgba(60, 64, 67, 0.15);\n",
              "      fill: #174EA6;\n",
              "    }\n",
              "\n",
              "    [theme=dark] .colab-df-convert {\n",
              "      background-color: #3B4455;\n",
              "      fill: #D2E3FC;\n",
              "    }\n",
              "\n",
              "    [theme=dark] .colab-df-convert:hover {\n",
              "      background-color: #434B5C;\n",
              "      box-shadow: 0px 1px 3px 1px rgba(0, 0, 0, 0.15);\n",
              "      filter: drop-shadow(0px 1px 2px rgba(0, 0, 0, 0.3));\n",
              "      fill: #FFFFFF;\n",
              "    }\n",
              "  </style>\n",
              "\n",
              "      <script>\n",
              "        const buttonEl =\n",
              "          document.querySelector('#df-4b3482a4-e463-4db6-b387-d0397f2db783 button.colab-df-convert');\n",
              "        buttonEl.style.display =\n",
              "          google.colab.kernel.accessAllowed ? 'block' : 'none';\n",
              "\n",
              "        async function convertToInteractive(key) {\n",
              "          const element = document.querySelector('#df-4b3482a4-e463-4db6-b387-d0397f2db783');\n",
              "          const dataTable =\n",
              "            await google.colab.kernel.invokeFunction('convertToInteractive',\n",
              "                                                     [key], {});\n",
              "          if (!dataTable) return;\n",
              "\n",
              "          const docLinkHtml = 'Like what you see? Visit the ' +\n",
              "            '<a target=\"_blank\" href=https://colab.research.google.com/notebooks/data_table.ipynb>data table notebook</a>'\n",
              "            + ' to learn more about interactive tables.';\n",
              "          element.innerHTML = '';\n",
              "          dataTable['output_type'] = 'display_data';\n",
              "          await google.colab.output.renderOutput(dataTable, element);\n",
              "          const docLink = document.createElement('div');\n",
              "          docLink.innerHTML = docLinkHtml;\n",
              "          element.appendChild(docLink);\n",
              "        }\n",
              "      </script>\n",
              "    </div>\n",
              "  </div>\n",
              "  "
            ]
          },
          "metadata": {},
          "execution_count": 49
        }
      ]
    },
    {
      "cell_type": "code",
      "source": [
        "a=100\n",
        "b=20\n",
        "if(a<100):\n",
        "  print('Tudo ok')\n",
        "else:\n",
        "    print('NOK')"
      ],
      "metadata": {
        "colab": {
          "base_uri": "https://localhost:8080/"
        },
        "id": "j_y0lcbNoT77",
        "outputId": "afac51f5-964d-4bba-cee5-6f9f8df3da55"
      },
      "execution_count": null,
      "outputs": [
        {
          "output_type": "stream",
          "name": "stdout",
          "text": [
            "NOK\n"
          ]
        }
      ]
    },
    {
      "cell_type": "markdown",
      "source": [
        "python identifica pela identação"
      ],
      "metadata": {
        "id": "bZ8G7DZRosMl"
      }
    },
    {
      "cell_type": "code",
      "source": [
        ""
      ],
      "metadata": {
        "id": "-VDW2oR3ouTi"
      },
      "execution_count": null,
      "outputs": []
    },
    {
      "cell_type": "code",
      "source": [
        "a=-1\n",
        "b=20\n",
        "if(a>=100):\n",
        "  print('Tudo ok')\n",
        "elif(a>=80):\n",
        "  print('Vixi, ai é ruim')\n",
        "elif(a>=60):\n",
        "  print('Não to gostando')\n",
        "elif(a>=40):\n",
        "  print:('Vixi Maria')\n",
        "elif(a>=20):\n",
        "  print('Segure as pontas')\n",
        "elif(a>=0):\n",
        "  print('EITAAAA')\n",
        "else:\n",
        "    print('lascou')"
      ],
      "metadata": {
        "colab": {
          "base_uri": "https://localhost:8080/"
        },
        "id": "BvnU9SoBo1aX",
        "outputId": "626f7b30-2352-4b53-dfc6-34d06748c171"
      },
      "execution_count": null,
      "outputs": [
        {
          "output_type": "stream",
          "name": "stdout",
          "text": [
            "lascou\n"
          ]
        }
      ]
    },
    {
      "cell_type": "code",
      "source": [
        "a=1\n",
        "b=2\n",
        "a==a\n"
      ],
      "metadata": {
        "colab": {
          "base_uri": "https://localhost:8080/"
        },
        "id": "7XAcjtZuqDu1",
        "outputId": "41bfb1ef-e812-40dc-ceed-650195f7d17b"
      },
      "execution_count": null,
      "outputs": [
        {
          "output_type": "execute_result",
          "data": {
            "text/plain": [
              "True"
            ]
          },
          "metadata": {},
          "execution_count": 69
        }
      ]
    },
    {
      "cell_type": "code",
      "source": [
        "a==b"
      ],
      "metadata": {
        "colab": {
          "base_uri": "https://localhost:8080/"
        },
        "id": "UrHDI3CYqLr4",
        "outputId": "13cacdb7-1884-41d4-a00d-f754616bede2"
      },
      "execution_count": null,
      "outputs": [
        {
          "output_type": "execute_result",
          "data": {
            "text/plain": [
              "False"
            ]
          },
          "metadata": {},
          "execution_count": 70
        }
      ]
    },
    {
      "cell_type": "code",
      "source": [
        "(a==a) & (a!=b)"
      ],
      "metadata": {
        "colab": {
          "base_uri": "https://localhost:8080/"
        },
        "id": "AaFzEeChqONK",
        "outputId": "f443baf9-ee91-435a-a83c-580cae3cc594"
      },
      "execution_count": null,
      "outputs": [
        {
          "output_type": "execute_result",
          "data": {
            "text/plain": [
              "True"
            ]
          },
          "metadata": {},
          "execution_count": 72
        }
      ]
    },
    {
      "cell_type": "code",
      "source": [
        "True & True"
      ],
      "metadata": {
        "colab": {
          "base_uri": "https://localhost:8080/"
        },
        "id": "MRPIoilfqZcr",
        "outputId": "760956c3-3942-4a4d-978b-0d16ab224380"
      },
      "execution_count": null,
      "outputs": [
        {
          "output_type": "execute_result",
          "data": {
            "text/plain": [
              "True"
            ]
          },
          "metadata": {},
          "execution_count": 74
        }
      ]
    },
    {
      "cell_type": "code",
      "source": [
        "True & False"
      ],
      "metadata": {
        "colab": {
          "base_uri": "https://localhost:8080/"
        },
        "id": "73vX4yPgqh-6",
        "outputId": "a4879ab5-a847-4bdd-ce8f-a6185a01c4fc"
      },
      "execution_count": null,
      "outputs": [
        {
          "output_type": "execute_result",
          "data": {
            "text/plain": [
              "False"
            ]
          },
          "metadata": {},
          "execution_count": 75
        }
      ]
    },
    {
      "cell_type": "code",
      "source": [
        "False & True"
      ],
      "metadata": {
        "colab": {
          "base_uri": "https://localhost:8080/"
        },
        "id": "v8IH_mezqtJf",
        "outputId": "ff5d5d49-1c0c-4f89-d232-d031b71f6ebf"
      },
      "execution_count": null,
      "outputs": [
        {
          "output_type": "execute_result",
          "data": {
            "text/plain": [
              "False"
            ]
          },
          "metadata": {},
          "execution_count": 76
        }
      ]
    },
    {
      "cell_type": "code",
      "source": [
        "False & False"
      ],
      "metadata": {
        "colab": {
          "base_uri": "https://localhost:8080/"
        },
        "id": "8iImYym8qxZD",
        "outputId": "bdc001eb-0fe9-41e3-aa71-f8b4057b1bc3"
      },
      "execution_count": null,
      "outputs": [
        {
          "output_type": "execute_result",
          "data": {
            "text/plain": [
              "False"
            ]
          },
          "metadata": {},
          "execution_count": 77
        }
      ]
    },
    {
      "cell_type": "code",
      "source": [
        "for i in range (10):\n",
        "  print(i)"
      ],
      "metadata": {
        "colab": {
          "base_uri": "https://localhost:8080/"
        },
        "id": "HIfN3v8fr1Xs",
        "outputId": "add97576-cd0d-4fba-db98-d7a78e5d7b81"
      },
      "execution_count": 4,
      "outputs": [
        {
          "output_type": "stream",
          "name": "stdout",
          "text": [
            "0\n",
            "1\n",
            "2\n",
            "3\n",
            "4\n",
            "5\n",
            "6\n",
            "7\n",
            "8\n",
            "9\n"
          ]
        }
      ]
    },
    {
      "cell_type": "code",
      "source": [
        "n=0\n",
        "while n <= 10:\n",
        "  print (n)\n",
        "  n+=1"
      ],
      "metadata": {
        "colab": {
          "base_uri": "https://localhost:8080/"
        },
        "id": "QuGhIY2AsQKR",
        "outputId": "d3ecc437-cb33-4293-ff09-d88e5b77f9bd"
      },
      "execution_count": 12,
      "outputs": [
        {
          "output_type": "stream",
          "name": "stdout",
          "text": [
            "0\n",
            "1\n",
            "2\n",
            "3\n",
            "4\n",
            "5\n",
            "6\n",
            "7\n",
            "8\n",
            "9\n",
            "10\n"
          ]
        }
      ]
    },
    {
      "cell_type": "code",
      "source": [
        "\n",
        "for i in range (2,10):\n",
        "  if i==5:\n",
        "    pass\n",
        "  else:\n",
        "    print(i)"
      ],
      "metadata": {
        "colab": {
          "base_uri": "https://localhost:8080/"
        },
        "id": "VdpSR8s0skC8",
        "outputId": "b5dbc850-95a1-40a7-9e54-5b35818a3de5"
      },
      "execution_count": 24,
      "outputs": [
        {
          "output_type": "stream",
          "name": "stdout",
          "text": [
            "2\n",
            "3\n",
            "4\n",
            "6\n",
            "7\n",
            "8\n",
            "9\n"
          ]
        }
      ]
    },
    {
      "cell_type": "markdown",
      "source": [
        "if nao pode ter um if vazio"
      ],
      "metadata": {
        "id": "OB6cwrqAtWdU"
      }
    },
    {
      "cell_type": "code",
      "source": [
        "def juros (i,n,P):\n",
        "  if i>=1:\n",
        "      print('O valor da taxa de juros não pode ser superior a 1')\n",
        "  else:\n",
        "    juros = P*(1+i)**n\n",
        "    return(juros)"
      ],
      "metadata": {
        "id": "Q3Wm0TVFt4Tb"
      },
      "execution_count": 32,
      "outputs": []
    },
    {
      "cell_type": "code",
      "source": [
        "juros(i=.10, n=2,P=100)"
      ],
      "metadata": {
        "colab": {
          "base_uri": "https://localhost:8080/"
        },
        "id": "8QLjicAguBrD",
        "outputId": "59075cf8-7d02-41ed-d72e-edad8974d8d3"
      },
      "execution_count": 34,
      "outputs": [
        {
          "output_type": "execute_result",
          "data": {
            "text/plain": [
              "121.00000000000001"
            ]
          },
          "metadata": {},
          "execution_count": 34
        }
      ]
    },
    {
      "cell_type": "code",
      "source": [
        "def media(x):\n",
        "  if(len(x)==0):\n",
        "    print('Não podemos fazer média de um conjunto vazio')\n",
        "    exit\n",
        "  else:\n",
        "      x= list(x)\n",
        "      med=sum(x)/len(x)\n",
        "      return med"
      ],
      "metadata": {
        "id": "lIZ-wLG7u0nS"
      },
      "execution_count": 38,
      "outputs": []
    },
    {
      "cell_type": "code",
      "source": [
        "media(x=[0,1,2,3])"
      ],
      "metadata": {
        "colab": {
          "base_uri": "https://localhost:8080/"
        },
        "id": "OfFtvPatvESM",
        "outputId": "9e4be9af-62cb-47e4-93cb-0927e1fcea86"
      },
      "execution_count": 47,
      "outputs": [
        {
          "output_type": "execute_result",
          "data": {
            "text/plain": [
              "1.5"
            ]
          },
          "metadata": {},
          "execution_count": 47
        }
      ]
    },
    {
      "cell_type": "code",
      "source": [
        "media(x=[])"
      ],
      "metadata": {
        "colab": {
          "base_uri": "https://localhost:8080/"
        },
        "id": "ZpKAwal5xQhp",
        "outputId": "b377cfcd-25db-41e1-c0ae-2f2df7f85683"
      },
      "execution_count": 46,
      "outputs": [
        {
          "output_type": "stream",
          "name": "stdout",
          "text": [
            "Não podemos fazer média de um conjunto vazio\n"
          ]
        }
      ]
    },
    {
      "cell_type": "code",
      "source": [
        "a=[0,2,3,4]"
      ],
      "metadata": {
        "id": "dy6ulzAexsnI"
      },
      "execution_count": 49,
      "outputs": []
    },
    {
      "cell_type": "code",
      "source": [
        "(max(a)-min(a))/max(a)"
      ],
      "metadata": {
        "colab": {
          "base_uri": "https://localhost:8080/"
        },
        "id": "RVA_fGDtxWVc",
        "outputId": "81b449ef-1f98-4133-8278-64cb8f664fb3"
      },
      "execution_count": 51,
      "outputs": [
        {
          "output_type": "execute_result",
          "data": {
            "text/plain": [
              "1.0"
            ]
          },
          "metadata": {},
          "execution_count": 51
        }
      ]
    },
    {
      "cell_type": "code",
      "source": [
        "import numpy as np\n",
        "def normalizador(x):\n",
        "  calc=np.array(x)\n",
        "  norm=(calc.max() - calc)/calc.max()\n",
        "  return norm"
      ],
      "metadata": {
        "id": "bcl0pWu-yGNE"
      },
      "execution_count": 58,
      "outputs": []
    },
    {
      "cell_type": "code",
      "source": [
        "normalizador(np.arange(15))"
      ],
      "metadata": {
        "colab": {
          "base_uri": "https://localhost:8080/"
        },
        "id": "whM3rBkyyYK1",
        "outputId": "5433f1ba-3369-479d-ec6d-b0d5d7e08971"
      },
      "execution_count": 59,
      "outputs": [
        {
          "output_type": "execute_result",
          "data": {
            "text/plain": [
              "array([1.        , 0.92857143, 0.85714286, 0.78571429, 0.71428571,\n",
              "       0.64285714, 0.57142857, 0.5       , 0.42857143, 0.35714286,\n",
              "       0.28571429, 0.21428571, 0.14285714, 0.07142857, 0.        ])"
            ]
          },
          "metadata": {},
          "execution_count": 59
        }
      ]
    },
    {
      "cell_type": "code",
      "source": [
        "def desvio_padrao(x):\n",
        "  med=media(x)\n",
        "  desv=sum(x-media(x))"
      ],
      "metadata": {
        "id": "L6fTq6O4yz5z"
      },
      "execution_count": 63,
      "outputs": []
    },
    {
      "cell_type": "code",
      "source": [
        "x=[0,1,2,3,4,4,5,6,7,7,8,9,10,13,14,15,10,15]\n",
        "x=np.array(x)"
      ],
      "metadata": {
        "id": "kErgjAAFzfZ6"
      },
      "execution_count": 87,
      "outputs": []
    },
    {
      "cell_type": "code",
      "source": [
        "(sum((x-media(x))**2)/(len(x)-1))**0.5"
      ],
      "metadata": {
        "colab": {
          "base_uri": "https://localhost:8080/"
        },
        "id": "Yr5t9tXizkOg",
        "outputId": "c6ef01ad-782d-4a5d-9a3c-7cf28358c9ef"
      },
      "execution_count": 91,
      "outputs": [
        {
          "output_type": "execute_result",
          "data": {
            "text/plain": [
              "4.742038391301272"
            ]
          },
          "metadata": {},
          "execution_count": 91
        }
      ]
    },
    {
      "cell_type": "code",
      "source": [
        "def varianca(x):\n",
        "  x=np.array(x)\n",
        "  var=sum((x-media(x))**2)/(len(x)-1)\n",
        "  return var"
      ],
      "metadata": {
        "id": "Gl4IuN3T1YE5"
      },
      "execution_count": 109,
      "outputs": []
    },
    {
      "cell_type": "code",
      "source": [
        "def desvio(x):\n",
        "  desvio= varianca(x)**0.5\n",
        "  return(desvio)"
      ],
      "metadata": {
        "id": "w3DBW0Sz2Sw5"
      },
      "execution_count": 111,
      "outputs": []
    },
    {
      "cell_type": "code",
      "source": [
        "desvio([0,1,2,5,6,7,10,12,13,15,19])"
      ],
      "metadata": {
        "colab": {
          "base_uri": "https://localhost:8080/"
        },
        "id": "00Wc_9T41lfJ",
        "outputId": "efc22b02-c91a-4f45-a380-3ebec10e28b3"
      },
      "execution_count": 115,
      "outputs": [
        {
          "output_type": "execute_result",
          "data": {
            "text/plain": [
              "6.145212475060269"
            ]
          },
          "metadata": {},
          "execution_count": 115
        }
      ]
    },
    {
      "cell_type": "code",
      "source": [
        "i=.10\n",
        "n=np.arange(0,20)\n",
        "P=100"
      ],
      "metadata": {
        "id": "oSDFas0_7ojJ"
      },
      "execution_count": 116,
      "outputs": []
    },
    {
      "cell_type": "code",
      "source": [
        "P*(1+i)**n"
      ],
      "metadata": {
        "colab": {
          "base_uri": "https://localhost:8080/"
        },
        "id": "9GE0ILfq7vdh",
        "outputId": "d820a4a6-f379-4b9e-f086-edb14307b249"
      },
      "execution_count": 117,
      "outputs": [
        {
          "output_type": "execute_result",
          "data": {
            "text/plain": [
              "array([100.        , 110.        , 121.        , 133.1       ,\n",
              "       146.41      , 161.051     , 177.1561    , 194.87171   ,\n",
              "       214.358881  , 235.7947691 , 259.37424601, 285.31167061,\n",
              "       313.84283767, 345.22712144, 379.74983358, 417.72481694,\n",
              "       459.49729864, 505.4470285 , 555.99173135, 611.59090448])"
            ]
          },
          "metadata": {},
          "execution_count": 117
        }
      ]
    },
    {
      "cell_type": "code",
      "source": [
        "pmt = 1500\n",
        "i=.05\n",
        "n=np.arange(20)\n"
      ],
      "metadata": {
        "id": "FlDSecqh79WG"
      },
      "execution_count": 127,
      "outputs": []
    },
    {
      "cell_type": "code",
      "source": [
        "pmt*20"
      ],
      "metadata": {
        "colab": {
          "base_uri": "https://localhost:8080/"
        },
        "id": "3EinCvYZ8KxE",
        "outputId": "4bc19c4c-9dfb-431b-ec15-c662808d4046"
      },
      "execution_count": 128,
      "outputs": [
        {
          "output_type": "execute_result",
          "data": {
            "text/plain": [
              "30000"
            ]
          },
          "metadata": {},
          "execution_count": 128
        }
      ]
    },
    {
      "cell_type": "code",
      "source": [
        "pmt/((1+i)**n)"
      ],
      "metadata": {
        "colab": {
          "base_uri": "https://localhost:8080/"
        },
        "id": "4LlybU2L86cg",
        "outputId": "f2f562d5-0ef7-47df-8ecd-f987c4b073db"
      },
      "execution_count": 129,
      "outputs": [
        {
          "output_type": "execute_result",
          "data": {
            "text/plain": [
              "array([1500.        , 1428.57142857, 1360.54421769, 1295.7563978 ,\n",
              "       1234.05371219, 1175.2892497 , 1119.32309495, 1066.0219952 ,\n",
              "       1015.25904304,  966.91337433,  920.86988031,  877.01893363,\n",
              "        835.25612727,  795.48202597,  757.60192949,  721.52564714,\n",
              "        687.16728299,  654.44503142,  623.2809823 ,  593.60093552])"
            ]
          },
          "metadata": {},
          "execution_count": 129
        }
      ]
    },
    {
      "cell_type": "code",
      "source": [
        "sum(pmt/((1+i)**n))"
      ],
      "metadata": {
        "colab": {
          "base_uri": "https://localhost:8080/"
        },
        "id": "Irw8xkrC9GnQ",
        "outputId": "4e7605a0-24cd-4a19-aff2-3c131cb7f310"
      },
      "execution_count": 130,
      "outputs": [
        {
          "output_type": "execute_result",
          "data": {
            "text/plain": [
              "19627.98128950047"
            ]
          },
          "metadata": {},
          "execution_count": 130
        }
      ]
    },
    {
      "cell_type": "code",
      "source": [
        "pmt*20-sum(pmt/((1+i)**n))"
      ],
      "metadata": {
        "colab": {
          "base_uri": "https://localhost:8080/"
        },
        "id": "pPiGQK309LnJ",
        "outputId": "2f14588e-8811-4f9b-f29d-9ec3ffe2db13"
      },
      "execution_count": 131,
      "outputs": [
        {
          "output_type": "execute_result",
          "data": {
            "text/plain": [
              "10372.018710499531"
            ]
          },
          "metadata": {},
          "execution_count": 131
        }
      ]
    }
  ]
}